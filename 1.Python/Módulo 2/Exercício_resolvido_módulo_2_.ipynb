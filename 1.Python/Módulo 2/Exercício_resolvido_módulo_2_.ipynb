{
  "nbformat": 4,
  "nbformat_minor": 0,
  "metadata": {
    "colab": {
      "provenance": []
    },
    "kernelspec": {
      "name": "python3",
      "display_name": "Python 3"
    },
    "language_info": {
      "name": "python"
    }
  },
  "cells": [
    {
      "cell_type": "markdown",
      "source": [
        "1. Listas"
      ],
      "metadata": {
        "id": "Q1JGF_vAfVc1"
      }
    },
    {
      "cell_type": "code",
      "execution_count": null,
      "metadata": {
        "colab": {
          "base_uri": "https://localhost:8080/"
        },
        "id": "OZ9X25RFTCTa",
        "outputId": "8154637c-1c05-4e71-9fbe-7cae0a0c514b"
      },
      "outputs": [
        {
          "output_type": "stream",
          "name": "stdout",
          "text": [
            "['Um sonho de Liberdade', 'O poderoso chefão', 'Batman: o cavaleiro das trevas', 'O poderoso chefão II', '12 homens e uma sentença', 'A lista de Schindler', 'Senhor dos Aneis: o retorno do rei', 'Pulp ficion: tempos de violencia', 'Senhor dos aneis: a sociedade do anel', 'Tres homens em conflito']\n"
          ]
        }
      ],
      "source": [
        "filmes = ['Um sonho de Liberdade', 'O poderoso chefão', 'Batman: o cavaleiro das trevas', 'O poderoso chefão II', '12 homens e uma sentença', 'A lista de Schindler','Senhor dos Aneis: o retorno do rei', 'Pulp ficion: tempos de violencia', 'Senhor dos aneis: a sociedade do anel', 'Tres homens em conflito']\n",
        "print(filmes)"
      ]
    },
    {
      "cell_type": "code",
      "source": [
        "filmes = ['Um sonho de Liberdade', 'O poderoso chefão', 'Batman: o cavaleiro das trevas', 'O poderoso chefão II', '12 homens e uma sentença', 'A lista de Schindler','Senhor dos Aneis: o retorno do rei', 'Pulp ficion: tempos de violencia', 'Senhor dos aneis: a sociedade do anel', 'Tres homens em conflito']\n",
        "filmes.insert(0, 'O poderoso chefão')\n",
        "filmes.pop(1)\n",
        "filmes.insert(1, 'Um sonho de Liberdade')\n",
        "filmes.pop(2)\n",
        "print(filmes)"
      ],
      "metadata": {
        "colab": {
          "base_uri": "https://localhost:8080/"
        },
        "id": "tzHkDh3jgUgD",
        "outputId": "00c59d9a-68ac-42d7-d3a6-f61a16c2cd7b"
      },
      "execution_count": null,
      "outputs": [
        {
          "output_type": "stream",
          "name": "stdout",
          "text": [
            "['O poderoso chefão', 'Um sonho de Liberdade', 'Batman: o cavaleiro das trevas', 'O poderoso chefão II', '12 homens e uma sentença', 'A lista de Schindler', 'Senhor dos Aneis: o retorno do rei', 'Pulp ficion: tempos de violencia', 'Senhor dos aneis: a sociedade do anel', 'Tres homens em conflito']\n"
          ]
        }
      ]
    },
    {
      "cell_type": "markdown",
      "source": [
        "2. Conjuntos"
      ],
      "metadata": {
        "id": "3NYQNc92iG-c"
      }
    },
    {
      "cell_type": "code",
      "source": [
        "filmes = ['Pulp fiction: tempos de violencia', 'Um sonho de Liberdade', 'O poderoso chefão','Senhor dos aneis: a sociedade do anel', 'Batman: o cavaleiro das trevas','Tres homens em conflito', 'O poderoso chefão II', '12 homens e uma sentença', 'A lista de Schindler','Senhor dos Aneis: o retorno do rei', 'Pulp fiction: tempos de violencia', 'Senhor dos aneis: a sociedade do anel', 'Tres homens em conflito']\n",
        "print(filmes)\n",
        "print(len(filmes))"
      ],
      "metadata": {
        "colab": {
          "base_uri": "https://localhost:8080/"
        },
        "id": "HXUakJNdiIY2",
        "outputId": "a0b7bc35-6cc3-49ea-8f40-5a7fcaf50f91"
      },
      "execution_count": null,
      "outputs": [
        {
          "output_type": "stream",
          "name": "stdout",
          "text": [
            "['Pulp fiction: tempos de violencia', 'Um sonho de Liberdade', 'O poderoso chefão', 'Senhor dos aneis: a sociedade do anel', 'Batman: o cavaleiro das trevas', 'Tres homens em conflito', 'O poderoso chefão II', '12 homens e uma sentença', 'A lista de Schindler', 'Senhor dos Aneis: o retorno do rei', 'Pulp fiction: tempos de violencia', 'Senhor dos aneis: a sociedade do anel', 'Tres homens em conflito']\n",
            "13\n"
          ]
        }
      ]
    },
    {
      "cell_type": "code",
      "source": [
        "filmes = ['Pulp fiction: tempos de violencia', 'Um sonho de Liberdade', 'O poderoso chefão', 'Senhor dos aneis: a sociedade do anel', 'Batman: o cavaleiro das trevas', 'Tres homens em conflito', 'O poderoso chefão II', '12 homens e uma sentença', 'A lista de Schindler', 'Senhor dos Aneis: o retorno do rei', 'Pulp fiction: tempos de violencia', 'Senhor dos aneis: a sociedade do anel', 'Tres homens em conflito']\n",
        "lista_filmes = list(set(filmes))\n",
        "print(lista_filmes)\n",
        "print(len(lista_filmes))\n"
      ],
      "metadata": {
        "colab": {
          "base_uri": "https://localhost:8080/"
        },
        "id": "3buEU-TRiIa_",
        "outputId": "b8772180-067d-4b6a-9990-5f08fe1ed3df"
      },
      "execution_count": null,
      "outputs": [
        {
          "output_type": "stream",
          "name": "stdout",
          "text": [
            "['12 homens e uma sentença', 'Senhor dos Aneis: o retorno do rei', 'Tres homens em conflito', 'Pulp fiction: tempos de violencia', 'O poderoso chefão', 'Um sonho de Liberdade', 'Batman: o cavaleiro das trevas', 'Senhor dos aneis: a sociedade do anel', 'O poderoso chefão II', 'A lista de Schindler']\n",
            "10\n"
          ]
        }
      ]
    },
    {
      "cell_type": "markdown",
      "source": [
        "3. Dicionários"
      ],
      "metadata": {
        "id": "HvgLzC9tnIgn"
      }
    },
    {
      "cell_type": "code",
      "source": [
        "filme_1 = {\n",
        "    'nome': 'Um sonho de Liberdade',\n",
        "    'ano': 1994,\n",
        "    'sinopse': 'Dois homens presos se reúnem ao longo de vários anos, encontrando consolo e eventual redenção através de atos de decência comum.'\n",
        "    }\n",
        "filme_2 = {\n",
        "    'nome': 'O poderoso chefao',\n",
        "    'ano': 1972,\n",
        "    'sinopse': 'O patriarca idoso de uma dinastia do crime organizado transfere o controle de seu império clandestino para seu filho relutante.'\n",
        "    }\n",
        "filme_3 = {\n",
        "    'nome': 'Batman: O Cavaleiro das Trevas',\n",
        "    'ano': 2003,\n",
        "    'sinopse':'Quando a ameaça conhecida como O Coringa surge de seu passado, causa estragos e caos nas pessoas de Gotham. O Cavaleiro das Trevas deve aceitar um dos maiores testes para combater a injustiça'\n",
        "    }\n",
        "filme_4 = {\n",
        "    'nome': 'O Poderoso Chefão II',\n",
        "    'ano': 1974,\n",
        "    'sinopse': 'Em 1950, Michael Corleone, agora à frente da família, tenta expandir o negócio do crime a Las Vegas, Los Angeles e Cuba. Paralelamente, é revelada a história de Vito Corleone, e de como saiu da Sicília e chegou a Nova Iorque.'\n",
        "    }\n",
        "filme_5 = {\n",
        "    'nome': '12 Homens e uma Sentença',\n",
        "    'ano': 1957,\n",
        "    'sinopse': 'Um jurado que se aposenta tenta evitar um erro judicial forçando seus colegas a reconsiderarem as evidências.'\n",
        "    }\n",
        "filme_6 = {'nome': 'A Lista de Schindler',\n",
        "           'ano': 1993,\n",
        "           'sinopse': 'Depois de testemunhar a perseguição dos judaicos na Polônia ocupada pelos alemães durante a Segunda Guerra Mundial, o industrial Oskar Schindler se começa a preocupar com sua força de trabalho judaica.'\n",
        "           }\n",
        "filme_7 = {\n",
        "    'nome': 'O Senhor dos Anéis: O Retorno do Rei',\n",
        "    'ano': 2003,\n",
        "    'sinopse':'Gandalf e Aragorn lideram o Mundo dos Homens contra o exército de Sauron para desviar o olhar de Frodo e Sam quando eles se aproximam á Montanha da Perdição com o Um Anel.'\n",
        "    }\n",
        "filme_8 = {'nome': 'Pulp Fiction: Tempo de Violência',\n",
        "           'ano': 1994,\n",
        "           'sinopse': 'As vidas de dois assassinos da máfia, um boxeador, um gângster e sua esposa, e um par de bandidos se entrelaçam em quatro histórias de violência e redenção.'\n",
        "           }\n",
        "filme_9 = {'nome': 'O Senhor dos Anéis: A Sociedade do Anel',\n",
        "           'ano': 2001,\n",
        "           'sinopse': 'Um manso hobbit do Condado e oito companheiros partem em uma jornada para destruir o poderoso Um Anel e salvar a Terra-média das Trevas.'\n",
        "           }\n",
        "filme_10 = {\n",
        "    'nome': 'Três Homens em Conflito',\n",
        "    'ano': 1966,\n",
        "    'sinopse': 'Um impostor se junta com dois homens para encontrar fortuna num remoto cemitério.'\n",
        "    }\n",
        "\n",
        "\n",
        "\n"
      ],
      "metadata": {
        "id": "UUTMG1W7nK0R"
      },
      "execution_count": null,
      "outputs": []
    }
  ]
}